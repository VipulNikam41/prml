{
  "nbformat": 4,
  "nbformat_minor": 0,
  "metadata": {
    "colab": {
      "name": "content _based recommendation system.ipynb",
      "provenance": [],
      "collapsed_sections": []
    },
    "kernelspec": {
      "name": "python3",
      "display_name": "Python 3"
    }
  },
  "cells": [
    {
      "cell_type": "code",
      "metadata": {
        "id": "43DsELv3boen",
        "outputId": "70691a7f-d514-4479-a13b-fc7dbca0d066",
        "colab": {
          "base_uri": "https://localhost:8080/"
        }
      },
      "source": [
        "import pandas as pd\n",
        "url= 'https://raw.githubusercontent.com/shalinc/Content-Based-Movie-Recommendation-System/master/ml-latest-small/movies.csv'\n",
        "df = pd.read_csv(url)\n",
        "print(df)\n",
        "print(df.columns)"
      ],
      "execution_count": 1,
      "outputs": [
        {
          "output_type": "stream",
          "text": [
            "      movieId  ...                                       genres\n",
            "0           1  ...  Adventure|Animation|Children|Comedy|Fantasy\n",
            "1           2  ...                   Adventure|Children|Fantasy\n",
            "2           3  ...                               Comedy|Romance\n",
            "3           4  ...                         Comedy|Drama|Romance\n",
            "4           5  ...                                       Comedy\n",
            "...       ...  ...                                          ...\n",
            "9120   162672  ...                      Adventure|Drama|Romance\n",
            "9121   163056  ...              Action|Adventure|Fantasy|Sci-Fi\n",
            "9122   163949  ...                                  Documentary\n",
            "9123   164977  ...                                       Comedy\n",
            "9124   164979  ...                                  Documentary\n",
            "\n",
            "[9125 rows x 3 columns]\n",
            "Index(['movieId', 'title', 'genres'], dtype='object')\n"
          ],
          "name": "stdout"
        }
      ]
    },
    {
      "cell_type": "code",
      "metadata": {
        "id": "G6clE4lhNhKf",
        "outputId": "add019cf-3b26-4073-8a8e-2affe4b561bb",
        "colab": {
          "base_uri": "https://localhost:8080/"
        }
      },
      "source": [
        "df = df[['title','genres']]\n",
        "print(df.head())\n",
        "print(df.isnull().sum())\n",
        "df.dropna(inplace=True)\n",
        "from sklearn.feature_extraction.text import TfidfVectorizer\n",
        "tf = TfidfVectorizer(analyzer='word', ngram_range=(1, 3), min_df=0, stop_words='english')\n",
        "matrix = tf.fit_transform(df['genres'])\n",
        "from sklearn.metrics.pairwise import linear_kernel\n",
        "cosine_similarities = linear_kernel(matrix,matrix)\n",
        "movie_title = df['title']\n",
        "indices = pd.Series(df.index, index=df['title'])\n",
        "def movie_recommend(title):\n",
        "    idx = indices[title]\n",
        "    sim_scores = list(enumerate(cosine_similarities[idx]))\n",
        "    sim_scores = sorted(sim_scores, key=lambda x: x[1], reverse=True)\n",
        "    sim_scores = sim_scores[1:31]\n",
        "    movie_indices = [i[0] for i in sim_scores]\n",
        "    return movie_title.iloc[movie_indices]"
      ],
      "execution_count": 2,
      "outputs": [
        {
          "output_type": "stream",
          "text": [
            "                                title                                       genres\n",
            "0                    Toy Story (1995)  Adventure|Animation|Children|Comedy|Fantasy\n",
            "1                      Jumanji (1995)                   Adventure|Children|Fantasy\n",
            "2             Grumpier Old Men (1995)                               Comedy|Romance\n",
            "3            Waiting to Exhale (1995)                         Comedy|Drama|Romance\n",
            "4  Father of the Bride Part II (1995)                                       Comedy\n",
            "title     0\n",
            "genres    0\n",
            "dtype: int64\n"
          ],
          "name": "stdout"
        }
      ]
    },
    {
      "cell_type": "code",
      "metadata": {
        "id": "0bxLaariODAR",
        "outputId": "90094d25-b46a-4bae-fcfe-d2c877394228",
        "colab": {
          "base_uri": "https://localhost:8080/"
        }
      },
      "source": [
        "movie_recommend('Casino (1995)').head(10) "
      ],
      "execution_count": 3,
      "outputs": [
        {
          "output_type": "execute_result",
          "data": {
            "text/plain": [
              "29     Shanghai Triad (Yao a yao yao dao waipo qiao) ...\n",
              "34                               Dead Man Walking (1995)\n",
              "89                               Hate (Haine, La) (1995)\n",
              "106                Young Poisoner's Handbook, The (1995)\n",
              "217                              The Glass Shield (1994)\n",
              "219                            Heavenly Creatures (1994)\n",
              "240                                 Little Odessa (1994)\n",
              "255                              New Jersey Drive (1995)\n",
              "260                            Once Were Warriors (1994)\n",
              "284                     Shawshank Redemption, The (1994)\n",
              "Name: title, dtype: object"
            ]
          },
          "metadata": {
            "tags": []
          },
          "execution_count": 3
        }
      ]
    },
    {
      "cell_type": "code",
      "metadata": {
        "id": "s4wChsvJQ4gT",
        "outputId": "a6c9100c-1710-43b6-8050-25a452897fa9",
        "colab": {
          "base_uri": "https://localhost:8080/"
        }
      },
      "source": [
        "movie_recommend('Transporter 2 (2005)').head(10)"
      ],
      "execution_count": 4,
      "outputs": [
        {
          "output_type": "execute_result",
          "data": {
            "text/plain": [
              "22                       Assassins (1995)\n",
              "144     Die Hard: With a Vengeance (1995)\n",
              "163                       Net, The (1995)\n",
              "258           Natural Born Killers (1994)\n",
              "426                 Judgment Night (1993)\n",
              "524                         Batman (1989)\n",
              "840                       Die Hard (1988)\n",
              "1377                     Hard Rain (1998)\n",
              "1387      Replacement Killers, The (1998)\n",
              "1397                 U.S. Marshals (1998)\n",
              "Name: title, dtype: object"
            ]
          },
          "metadata": {
            "tags": []
          },
          "execution_count": 4
        }
      ]
    },
    {
      "cell_type": "code",
      "metadata": {
        "id": "qlub-YacjY0j",
        "outputId": "3976d7fd-116a-453a-9e48-1a0fba462509",
        "colab": {
          "base_uri": "https://localhost:8080/"
        }
      },
      "source": [
        "movie_recommend('Death Race (2008)').head(10)"
      ],
      "execution_count": 5,
      "outputs": [
        {
          "output_type": "execute_result",
          "data": {
            "text/plain": [
              "644       Independence Day (a.k.a. ID4) (1996)\n",
              "690                    Escape from L.A. (1996)\n",
              "904                          Abyss, The (1989)\n",
              "906                Escape from New York (1981)\n",
              "1100           Star Trek: First Contact (1996)\n",
              "1114    Star Trek II: The Wrath of Khan (1982)\n",
              "1234     Lost World: Jurassic Park, The (1997)\n",
              "1263                              Spawn (1997)\n",
              "2338                       Total Recall (1990)\n",
              "2904                          Moonraker (1979)\n",
              "Name: title, dtype: object"
            ]
          },
          "metadata": {
            "tags": []
          },
          "execution_count": 5
        }
      ]
    },
    {
      "cell_type": "code",
      "metadata": {
        "id": "52rJKHzTVhRf"
      },
      "source": [
        ""
      ],
      "execution_count": null,
      "outputs": []
    },
    {
      "cell_type": "code",
      "metadata": {
        "id": "RPCb5CThVhVq"
      },
      "source": [
        "https://github.com/shalinc/Content-Based-Movie-Recommendation-System/blob/master/ml-latest-small/movies.csv\n",
        "## link to the csv file in github"
      ],
      "execution_count": null,
      "outputs": []
    },
    {
      "cell_type": "code",
      "metadata": {
        "id": "kIVed3gJVon2"
      },
      "source": [
        "https://colab.research.google.com/drive/16cjdh4xrSaPnc-d7WWgwHIDb3L6zxyaT?usp=sharing\n",
        "## link to the colab"
      ],
      "execution_count": null,
      "outputs": []
    },
    {
      "cell_type": "code",
      "metadata": {
        "id": "yj7ab0DnVowd"
      },
      "source": [
        ""
      ],
      "execution_count": null,
      "outputs": []
    }
  ]
}